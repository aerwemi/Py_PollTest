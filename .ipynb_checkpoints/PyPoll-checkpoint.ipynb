{
 "cells": [
  {
   "cell_type": "code",
   "execution_count": 7,
   "metadata": {
    "collapsed": true
   },
   "outputs": [],
   "source": [
    "import pandas as pd \n",
    "import random\n",
    "import os"
   ]
  },
  {
   "cell_type": "code",
   "execution_count": 23,
   "metadata": {},
   "outputs": [
    {
     "data": {
      "text/plain": [
       "(35210, 3)"
      ]
     },
     "execution_count": 23,
     "metadata": {},
     "output_type": "execute_result"
    }
   ],
   "source": [
    "(3521001, 3)\n",
    "\n",
    "\n",
    "n = 3521001 #number of rows in the file\n",
    "s = int(0.01 * n) #desired sample size\n",
    "file_to_load = os.path.join(\"raw_data\", \"election_data_2.csv\")\n",
    "skip = sorted(random.sample(range(n),n-s))\n",
    "df = pd.read_csv(file_to_load, skiprows=skip)\n",
    "df.columns = ['Voter ID', 'County', 'Candidate']\n",
    "df.shape"
   ]
  },
  {
   "cell_type": "code",
   "execution_count": 24,
   "metadata": {},
   "outputs": [
    {
     "data": {
      "text/html": [
       "<div>\n",
       "<style>\n",
       "    .dataframe thead tr:only-child th {\n",
       "        text-align: right;\n",
       "    }\n",
       "\n",
       "    .dataframe thead th {\n",
       "        text-align: left;\n",
       "    }\n",
       "\n",
       "    .dataframe tbody tr th {\n",
       "        vertical-align: top;\n",
       "    }\n",
       "</style>\n",
       "<table border=\"1\" class=\"dataframe\">\n",
       "  <thead>\n",
       "    <tr style=\"text-align: right;\">\n",
       "      <th></th>\n",
       "      <th>Voter ID</th>\n",
       "      <th>County</th>\n",
       "      <th>Candidate</th>\n",
       "    </tr>\n",
       "  </thead>\n",
       "  <tbody>\n",
       "    <tr>\n",
       "      <th>0</th>\n",
       "      <td>18078316</td>\n",
       "      <td>Marsh</td>\n",
       "      <td>Correy</td>\n",
       "    </tr>\n",
       "    <tr>\n",
       "      <th>1</th>\n",
       "      <td>12439837</td>\n",
       "      <td>Marsh</td>\n",
       "      <td>Khan</td>\n",
       "    </tr>\n",
       "    <tr>\n",
       "      <th>2</th>\n",
       "      <td>19279895</td>\n",
       "      <td>Queen</td>\n",
       "      <td>Correy</td>\n",
       "    </tr>\n",
       "    <tr>\n",
       "      <th>3</th>\n",
       "      <td>13030884</td>\n",
       "      <td>Marsh</td>\n",
       "      <td>Khan</td>\n",
       "    </tr>\n",
       "    <tr>\n",
       "      <th>4</th>\n",
       "      <td>15387087</td>\n",
       "      <td>Marsh</td>\n",
       "      <td>Khan</td>\n",
       "    </tr>\n",
       "  </tbody>\n",
       "</table>\n",
       "</div>"
      ],
      "text/plain": [
       "   Voter ID County Candidate\n",
       "0  18078316  Marsh    Correy\n",
       "1  12439837  Marsh      Khan\n",
       "2  19279895  Queen    Correy\n",
       "3  13030884  Marsh      Khan\n",
       "4  15387087  Marsh      Khan"
      ]
     },
     "execution_count": 24,
     "metadata": {},
     "output_type": "execute_result"
    }
   ],
   "source": [
    "df.head()"
   ]
  },
  {
   "cell_type": "code",
   "execution_count": 28,
   "metadata": {},
   "outputs": [],
   "source": [
    "file_to_load_samp = os.path.join(\"raw_data\", \"election_data_2_sample.csv\")\n",
    "df.to_csv(file_to_load_samp, index=False)"
   ]
  },
  {
   "cell_type": "code",
   "execution_count": 29,
   "metadata": {
    "collapsed": true
   },
   "outputs": [],
   "source": [
    "# -*- coding: UTF-8 -*-\n",
    "\"\"\"PyPoll Homework Solution.\"\"\"\n",
    "\n",
    "# Incorporated the csv module\n",
    "import csv\n",
    "import os"
   ]
  },
  {
   "cell_type": "code",
   "execution_count": 31,
   "metadata": {},
   "outputs": [
    {
     "name": "stdout",
     "output_type": "stream",
     "text": [
      "raw_data\\election_data_2.csv\n",
      "analysis\\election_analysis_2.txt\n"
     ]
    }
   ],
   "source": [
    "# Files to load and output (Remember to change these)\n",
    "file_to_load = os.path.join(\"raw_data\", \"election_data_2.csv\")\n",
    "file_to_output = os.path.join(\"analysis\", \"election_analysis_2.txt\")\n",
    "print(file_to_load)\n",
    "print(file_to_output )"
   ]
  },
  {
   "cell_type": "code",
   "execution_count": 32,
   "metadata": {
    "collapsed": true
   },
   "outputs": [],
   "source": [
    "# Total Vote Counter\n",
    "total_votes = 0\n",
    "\n",
    "# Candidate Options and Vote Counters\n",
    "candidate_options = []\n",
    "candidate_votes = {}\n",
    "\n",
    "# Winning Candidate and Winning Count Tracker\n",
    "winning_candidate = \"\"\n",
    "winning_count = 0"
   ]
  },
  {
   "cell_type": "code",
   "execution_count": 33,
   "metadata": {},
   "outputs": [
    {
     "name": "stdout",
     "output_type": "stream",
     "text": [
      "['Voter ID', 'County', 'Candidate']\n"
     ]
    }
   ],
   "source": [
    "# Read the csv and convert it into a list of dictionaries\n",
    "with open(file_to_load_samp) as election_data:\n",
    "    reader = csv.reader(election_data)\n",
    "\n",
    "    # Read the header\n",
    "    header = next(reader)\n",
    "    print(header)\n",
    "    \n",
    "    # For each row...\n",
    "    for row in reader:\n",
    "\n",
    "        # Run the loader animation\n",
    "        #print(\". \", end=\"\"),\n",
    "\n",
    "        # Add to the total vote count\n",
    "        total_votes = total_votes + 1\n",
    "\n",
    "        # Extract the candidate name from each row\n",
    "        #print(row)\n",
    "        candidate_name = row[2]\n",
    "\n",
    "        # If the candidate does not match any existing candidate...\n",
    "        # (In a way, our loop is \"discovering\" candidates as it goes)\n",
    "        if candidate_name not in candidate_options:\n",
    "\n",
    "            # Add it to the list of candidates in the running\n",
    "            candidate_options.append(candidate_name)\n",
    "\n",
    "            # And begin tracking that candidate's voter count\n",
    "            candidate_votes[candidate_name] = 0\n",
    "\n",
    "        # Then add a vote to that candidate's count\n",
    "        candidate_votes[candidate_name] = candidate_votes[candidate_name] + 1\n",
    "\n",
    "    "
   ]
  },
  {
   "cell_type": "code",
   "execution_count": 38,
   "metadata": {},
   "outputs": [
    {
     "data": {
      "text/plain": [
       "['14526187', 'Queen', \"O'Tooley\"]"
      ]
     },
     "execution_count": 38,
     "metadata": {},
     "output_type": "execute_result"
    }
   ],
   "source": [
    "# annal\n",
    "row"
   ]
  },
  {
   "cell_type": "code",
   "execution_count": 39,
   "metadata": {},
   "outputs": [
    {
     "data": {
      "text/plain": [
       "['Correy', 'Khan', 'Li', \"O'Tooley\"]"
      ]
     },
     "execution_count": 39,
     "metadata": {},
     "output_type": "execute_result"
    }
   ],
   "source": [
    "candidate_options"
   ]
  },
  {
   "cell_type": "code",
   "execution_count": 44,
   "metadata": {},
   "outputs": [
    {
     "name": "stdout",
     "output_type": "stream",
     "text": [
      "6846\n",
      "22333\n",
      "4973\n",
      "1058\n"
     ]
    }
   ],
   "source": [
    "candidate_votes\n",
    "for candidate in candidate_votes:\n",
    "    #print(candidate)\n",
    "    print(candidate_votes.get(candidate))"
   ]
  },
  {
   "cell_type": "code",
   "execution_count": 47,
   "metadata": {},
   "outputs": [
    {
     "name": "stdout",
     "output_type": "stream",
     "text": [
      "\n",
      "\n",
      "Election Results\n",
      "-------------------------\n",
      "Total Votes: 35210\n",
      "-------------------------\n",
      "Correy: 19.443% (6846)\n",
      "Khan: 63.428% (22333)\n",
      "Li: 14.124% (4973)\n",
      "O'Tooley: 3.005% (1058)\n",
      "-------------------------\n",
      "Winner: Khan\n",
      "-------------------------\n",
      "\n"
     ]
    }
   ],
   "source": [
    "# Print the results and export the data to our text file\n",
    "with open(file_to_output, \"w\") as txt_file:\n",
    "\n",
    "    # Print the final vote count (to terminal)\n",
    "    election_results = (\n",
    "        f\"\\n\\nElection Results\\n\"\n",
    "        f\"-------------------------\\n\"\n",
    "        f\"Total Votes: {total_votes}\\n\"\n",
    "        f\"-------------------------\\n\")\n",
    "    print(election_results, end=\"\")\n",
    "\n",
    "    # Save the final vote count to the text file\n",
    "    txt_file.write(election_results)\n",
    "\n",
    "    # Determine the winner by looping through the counts\n",
    "    for candidate in candidate_votes:\n",
    "\n",
    "        # Retrieve vote count and percentage\n",
    "        votes = candidate_votes.get(candidate)\n",
    "        vote_percentage = float(votes) / float(total_votes) * 100\n",
    "\n",
    "        # Determine winning vote count and candidate\n",
    "        if (votes > winning_count):\n",
    "            winning_count = votes\n",
    "            winning_candidate = candidate\n",
    "\n",
    "        # Print each candidate's voter count and percentage (to terminal)\n",
    "        voter_output = f\"{candidate}: {vote_percentage:.3f}% ({votes})\\n\"\n",
    "        print(voter_output, end=\"\")\n",
    "\n",
    "        # Save each candidate's voter count and percentage to text file\n",
    "        txt_file.write(voter_output)\n",
    "\n",
    "    # Print the winning candidate (to terminal)\n",
    "    winning_candidate_summary = (\n",
    "        f\"-------------------------\\n\"\n",
    "        f\"Winner: {winning_candidate}\\n\"\n",
    "        f\"-------------------------\\n\")\n",
    "    print(winning_candidate_summary)\n",
    "\n",
    "    # Save the winning candidate's name to the text file\n",
    "    txt_file.write(winning_candidate_summary)"
   ]
  },
  {
   "cell_type": "code",
   "execution_count": null,
   "metadata": {
    "collapsed": true
   },
   "outputs": [],
   "source": []
  }
 ],
 "metadata": {
  "kernelspec": {
   "display_name": "Python 3",
   "language": "python",
   "name": "python3"
  },
  "language_info": {
   "codemirror_mode": {
    "name": "ipython",
    "version": 3
   },
   "file_extension": ".py",
   "mimetype": "text/x-python",
   "name": "python",
   "nbconvert_exporter": "python",
   "pygments_lexer": "ipython3",
   "version": "3.6.1"
  }
 },
 "nbformat": 4,
 "nbformat_minor": 2
}
